{
  "nbformat": 4,
  "nbformat_minor": 0,
  "metadata": {
    "colab": {
      "provenance": []
    },
    "kernelspec": {
      "name": "python3",
      "display_name": "Python 3"
    },
    "language_info": {
      "name": "python"
    }
  },
  "cells": [
    {
      "cell_type": "code",
      "execution_count": null,
      "metadata": {
        "id": "qSzNdgySYK6m"
      },
      "outputs": [],
      "source": [
        "import numpy as np\n",
        "import pandas as pd\n",
        "import matplotlib.pyplot as plt\n",
        "\n",
        "\n",
        "from sklearn.svm import SVC\n",
        "\n",
        "from sklearn.model_selection import train_test_split, GridSearchCV\n",
        "\n",
        "from sklearn.preprocessing import StandardScaler\n",
        "\n",
        "from sklearn.linear_model import LogisticRegression, LassoCV\n",
        "\n",
        "from sklearn.feature_selection import SelectFromModel\n",
        "\n",
        "from sklearn.utils import resample, class_weight\n",
        "\n",
        "from sklearn.metrics import accuracy_score, precision_score, recall_score, f1_score, confusion_matrix\n",
        "\n"
      ]
    },
    {
      "cell_type": "code",
      "source": [
        "from google.colab import drive\n",
        "drive.mount('/content/drive')"
      ],
      "metadata": {
        "colab": {
          "base_uri": "https://localhost:8080/"
        },
        "id": "GMMRo81Tg6AY",
        "outputId": "64b6d14b-4204-4704-ff01-69d2726acc30"
      },
      "execution_count": null,
      "outputs": [
        {
          "output_type": "stream",
          "name": "stdout",
          "text": [
            "Drive already mounted at /content/drive; to attempt to forcibly remount, call drive.mount(\"/content/drive\", force_remount=True).\n"
          ]
        }
      ]
    },
    {
      "cell_type": "code",
      "source": [
        "feature_names = pd.read_csv(\"/content/drive/MyDrive/ELEG817-Large scale ML/HW/HW2/feature_names.csv\", header = None)\n",
        "\n",
        "train_X =  pd.read_csv(\"/content/drive/MyDrive/ELEG817-Large scale ML/HW/HW2/train_X.csv\", header = None)\n",
        "train_Y =  pd.read_csv(\"/content/drive/MyDrive/ELEG817-Large scale ML/HW/HW2/train_Y.csv\", header = None)\n",
        "test_X =  pd.read_csv(\"/content/drive/MyDrive/ELEG817-Large scale ML/HW/HW2/test_X.csv\", header = None)\n",
        "test_Y =  pd.read_csv(\"/content/drive/MyDrive/ELEG817-Large scale ML/HW/HW2/test_Y.csv\", header = None)"
      ],
      "metadata": {
        "id": "XcvS0AZKmG_o"
      },
      "execution_count": null,
      "outputs": []
    },
    {
      "cell_type": "code",
      "source": [
        "train_data = pd.DataFrame(columns=['Feature_' + str(i) for i in range(1, 113)])\n",
        "\n",
        "# Read each line from train_X.csv and update the corresponding feature columns\n",
        "with open(\"/content/drive/MyDrive/ELEG817-Large scale ML/HW/HW2/train_X.csv\", 'r') as file:\n",
        "    for line in file:\n",
        "        values = line.strip().split(',')\n",
        "        instance_idx = int(values[0])  # Extract instance index\n",
        "        feature_idx = int(values[1]) - 1  # Convert feature index to 0-based\n",
        "        train_data.at[instance_idx, 'Feature_' + str(feature_idx + 1)] = int(values[2])\n",
        "\n",
        "# Set Column Names\n",
        "feature_names = pd.read_csv(\"/content/drive/MyDrive/ELEG817-Large scale ML/HW/HW2/feature_names.csv\", header=None)\n",
        "train_data.columns = feature_names[0].tolist()"
      ],
      "metadata": {
        "id": "cEa9rFg2lEJj"
      },
      "execution_count": null,
      "outputs": []
    },
    {
      "cell_type": "code",
      "source": [
        "test_data = pd.DataFrame(columns=['Feature_' + str(i) for i in range(1, 113)])\n",
        "\n",
        "# Read each line from train_X.csv and update the corresponding feature columns\n",
        "with open(\"/content/drive/MyDrive/ELEG817-Large scale ML/HW/HW2/test_X.csv\", 'r') as file:\n",
        "    for line in file:\n",
        "        values = line.strip().split(',')\n",
        "        instance_idx = int(values[0])  # Extract instance index\n",
        "        feature_idx = int(values[1]) - 1  # Convert feature index to 0-based\n",
        "        test_data.at[instance_idx, 'Feature_' + str(feature_idx + 1)] = int(values[2])\n",
        "\n",
        "# Set Column Names\n",
        "feature_names = pd.read_csv(\"/content/drive/MyDrive/ELEG817-Large scale ML/HW/HW2/feature_names.csv\", header=None)\n",
        "test_data.columns = feature_names[0].tolist()"
      ],
      "metadata": {
        "id": "3N2dInJ6ox_x"
      },
      "execution_count": null,
      "outputs": []
    },
    {
      "cell_type": "code",
      "source": [
        "train_data.shape"
      ],
      "metadata": {
        "colab": {
          "base_uri": "https://localhost:8080/"
        },
        "id": "6Vm54s_DnKDY",
        "outputId": "73b1fa86-1f8a-42a7-9a0b-177809a410b7"
      },
      "execution_count": null,
      "outputs": [
        {
          "output_type": "execute_result",
          "data": {
            "text/plain": [
              "(8124, 112)"
            ]
          },
          "metadata": {},
          "execution_count": 6
        }
      ]
    },
    {
      "cell_type": "code",
      "source": [
        "test_data.shape"
      ],
      "metadata": {
        "colab": {
          "base_uri": "https://localhost:8080/"
        },
        "id": "dWg2hu7-4ru9",
        "outputId": "7775488c-99a9-4746-add2-0a1e6cade70a"
      },
      "execution_count": null,
      "outputs": [
        {
          "output_type": "execute_result",
          "data": {
            "text/plain": [
              "(200, 112)"
            ]
          },
          "metadata": {},
          "execution_count": 7
        }
      ]
    },
    {
      "cell_type": "code",
      "source": [
        "train_data = train_data.fillna(0)"
      ],
      "metadata": {
        "id": "RL3cl8iUox3n"
      },
      "execution_count": null,
      "outputs": []
    },
    {
      "cell_type": "code",
      "source": [
        "test_data = test_data.fillna(0)"
      ],
      "metadata": {
        "id": "p_yNb7nRmOuw"
      },
      "execution_count": null,
      "outputs": []
    },
    {
      "cell_type": "markdown",
      "source": [
        "For edible and poisonous mushrooms, we should assign a higher weight to the \"poisonous\" class.\n",
        "The weight can be set based on prior  knowledge or trying different weight values to find the best trade-off to minimize false positives and false negatives.\n",
        "\n",
        "Let's start by assigning a weight of 5 to the \"poisonous\" class and 1 to the \"edible\" class. This means that the classifier will pay more attention to correctly classifying poisonous mushrooms, even if it results in more false positives.\n"
      ],
      "metadata": {
        "id": "8X9C9S40Lmgm"
      }
    },
    {
      "cell_type": "code",
      "source": [
        "class_weights = {1: 1.0, -1: 5.0}"
      ],
      "metadata": {
        "id": "8StweS2BdqsH"
      },
      "execution_count": null,
      "outputs": []
    },
    {
      "cell_type": "markdown",
      "source": [
        "    Splitting the Traing Data:\n",
        "        The ince the eoriginal ddata has already been split into two, I will further split the training data into to three parts:\n",
        "        the training set, the validation set (from training), and the test set.\n",
        "        The training set will be used to train the models.\n",
        "        The validation set will be used to select hyperparameters and assess the model's performance during the tuning process.\n",
        "        The test set will evaluate the final model's generalization performance.\n",
        "\n",
        "    Metric:\n",
        "        Common weighted metrics include accuracy and F1-score\n",
        "\n",
        "    Hyperparameter Tuning:\n",
        "        Choosing a range of hyperparameters to tune, such as regularization parameters (L1, L2, and elasticnet)\n",
        "        Picking 5-fold cross validation, to tune these hyperparameters on the training set.\n",
        "\n",
        "    Grid Search or Random Search:\n",
        "        Grid search evaluates all possible combinations of hyperparameters in a specified range, while random search samples from this space randomly, I'll use grid search.\n",
        "\n",
        "    Convex Minimization:\n",
        "        Convex minimization is not a strict requirement. Even non-convex optimization can work well for many problems when combined with careful hyperparameter selection.\n",
        "\n",
        "    Selecting the Best Hyperparameters:\n",
        "        Choosing the hyperparameter combination that resulted in the best performance on the weighted validation metric during the cross-validation process.\n",
        "\n",
        "    Model Evaluation on the Test Set:\n",
        "        Finally, evaluate the model's performance on the test set, which haven't used during training or hyperparameter tuning. This step provides an unbiased estimate of the model's generalization performance."
      ],
      "metadata": {
        "id": "vkSn88bUO1Gb"
      }
    },
    {
      "cell_type": "code",
      "source": [
        "# Data is stored in 'merged_data'\n",
        "X = train_data\n",
        "y = np.ravel(train_Y)\n",
        "\n",
        "# Convert X and y to np arrays\n",
        "X = X.to_numpy()"
      ],
      "metadata": {
        "id": "fMer1sGiQkMh"
      },
      "execution_count": null,
      "outputs": []
    },
    {
      "cell_type": "code",
      "source": [
        "# Test data\n",
        "X_testing = test_data  # Select the first 112 columns as features X\n",
        "y_testing = np.ravel(test_Y)\n",
        "\n",
        "# Convert X and y to np arrays\n",
        "X_testing = X_testing.to_numpy()"
      ],
      "metadata": {
        "id": "TtGT2NmPPfby"
      },
      "execution_count": null,
      "outputs": []
    },
    {
      "cell_type": "code",
      "source": [
        "# Split data into training (80%) and validation (20%) sets\n",
        "X_train, X_val, y_train, y_val = train_test_split(X, y, test_size=0.2, random_state=42)"
      ],
      "metadata": {
        "id": "wzI9JADjMaOZ"
      },
      "execution_count": null,
      "outputs": []
    },
    {
      "cell_type": "markdown",
      "source": [
        "The Loss function is a logistic regression, and I'll use a the L2 regularization to address the colinearity of the of the variance"
      ],
      "metadata": {
        "id": "XzNXz0gN_S1E"
      }
    },
    {
      "cell_type": "code",
      "source": [
        "# Create a logistic regression model with class weights\n",
        "model1 = LogisticRegression(class_weight= class_weights, max_iter= 1000, penalty = 'l2', solver = 'liblinear', C = 1.0)\n",
        "\n",
        "# Train the model on your training data\n",
        "model1.fit(X_train, y_train)"
      ],
      "metadata": {
        "id": "-TOD-7bLe75L",
        "colab": {
          "base_uri": "https://localhost:8080/",
          "height": 92
        },
        "outputId": "b6d49956-8cfc-4eb2-abba-0fabdadbf404"
      },
      "execution_count": null,
      "outputs": [
        {
          "output_type": "execute_result",
          "data": {
            "text/plain": [
              "LogisticRegression(class_weight={-1: 5.0, 1: 1.0}, max_iter=1000,\n",
              "                   solver='liblinear')"
            ],
            "text/html": [
              "<style>#sk-container-id-1 {color: black;background-color: white;}#sk-container-id-1 pre{padding: 0;}#sk-container-id-1 div.sk-toggleable {background-color: white;}#sk-container-id-1 label.sk-toggleable__label {cursor: pointer;display: block;width: 100%;margin-bottom: 0;padding: 0.3em;box-sizing: border-box;text-align: center;}#sk-container-id-1 label.sk-toggleable__label-arrow:before {content: \"▸\";float: left;margin-right: 0.25em;color: #696969;}#sk-container-id-1 label.sk-toggleable__label-arrow:hover:before {color: black;}#sk-container-id-1 div.sk-estimator:hover label.sk-toggleable__label-arrow:before {color: black;}#sk-container-id-1 div.sk-toggleable__content {max-height: 0;max-width: 0;overflow: hidden;text-align: left;background-color: #f0f8ff;}#sk-container-id-1 div.sk-toggleable__content pre {margin: 0.2em;color: black;border-radius: 0.25em;background-color: #f0f8ff;}#sk-container-id-1 input.sk-toggleable__control:checked~div.sk-toggleable__content {max-height: 200px;max-width: 100%;overflow: auto;}#sk-container-id-1 input.sk-toggleable__control:checked~label.sk-toggleable__label-arrow:before {content: \"▾\";}#sk-container-id-1 div.sk-estimator input.sk-toggleable__control:checked~label.sk-toggleable__label {background-color: #d4ebff;}#sk-container-id-1 div.sk-label input.sk-toggleable__control:checked~label.sk-toggleable__label {background-color: #d4ebff;}#sk-container-id-1 input.sk-hidden--visually {border: 0;clip: rect(1px 1px 1px 1px);clip: rect(1px, 1px, 1px, 1px);height: 1px;margin: -1px;overflow: hidden;padding: 0;position: absolute;width: 1px;}#sk-container-id-1 div.sk-estimator {font-family: monospace;background-color: #f0f8ff;border: 1px dotted black;border-radius: 0.25em;box-sizing: border-box;margin-bottom: 0.5em;}#sk-container-id-1 div.sk-estimator:hover {background-color: #d4ebff;}#sk-container-id-1 div.sk-parallel-item::after {content: \"\";width: 100%;border-bottom: 1px solid gray;flex-grow: 1;}#sk-container-id-1 div.sk-label:hover label.sk-toggleable__label {background-color: #d4ebff;}#sk-container-id-1 div.sk-serial::before {content: \"\";position: absolute;border-left: 1px solid gray;box-sizing: border-box;top: 0;bottom: 0;left: 50%;z-index: 0;}#sk-container-id-1 div.sk-serial {display: flex;flex-direction: column;align-items: center;background-color: white;padding-right: 0.2em;padding-left: 0.2em;position: relative;}#sk-container-id-1 div.sk-item {position: relative;z-index: 1;}#sk-container-id-1 div.sk-parallel {display: flex;align-items: stretch;justify-content: center;background-color: white;position: relative;}#sk-container-id-1 div.sk-item::before, #sk-container-id-1 div.sk-parallel-item::before {content: \"\";position: absolute;border-left: 1px solid gray;box-sizing: border-box;top: 0;bottom: 0;left: 50%;z-index: -1;}#sk-container-id-1 div.sk-parallel-item {display: flex;flex-direction: column;z-index: 1;position: relative;background-color: white;}#sk-container-id-1 div.sk-parallel-item:first-child::after {align-self: flex-end;width: 50%;}#sk-container-id-1 div.sk-parallel-item:last-child::after {align-self: flex-start;width: 50%;}#sk-container-id-1 div.sk-parallel-item:only-child::after {width: 0;}#sk-container-id-1 div.sk-dashed-wrapped {border: 1px dashed gray;margin: 0 0.4em 0.5em 0.4em;box-sizing: border-box;padding-bottom: 0.4em;background-color: white;}#sk-container-id-1 div.sk-label label {font-family: monospace;font-weight: bold;display: inline-block;line-height: 1.2em;}#sk-container-id-1 div.sk-label-container {text-align: center;}#sk-container-id-1 div.sk-container {/* jupyter's `normalize.less` sets `[hidden] { display: none; }` but bootstrap.min.css set `[hidden] { display: none !important; }` so we also need the `!important` here to be able to override the default hidden behavior on the sphinx rendered scikit-learn.org. See: https://github.com/scikit-learn/scikit-learn/issues/21755 */display: inline-block !important;position: relative;}#sk-container-id-1 div.sk-text-repr-fallback {display: none;}</style><div id=\"sk-container-id-1\" class=\"sk-top-container\"><div class=\"sk-text-repr-fallback\"><pre>LogisticRegression(class_weight={-1: 5.0, 1: 1.0}, max_iter=1000,\n",
              "                   solver=&#x27;liblinear&#x27;)</pre><b>In a Jupyter environment, please rerun this cell to show the HTML representation or trust the notebook. <br />On GitHub, the HTML representation is unable to render, please try loading this page with nbviewer.org.</b></div><div class=\"sk-container\" hidden><div class=\"sk-item\"><div class=\"sk-estimator sk-toggleable\"><input class=\"sk-toggleable__control sk-hidden--visually\" id=\"sk-estimator-id-1\" type=\"checkbox\" checked><label for=\"sk-estimator-id-1\" class=\"sk-toggleable__label sk-toggleable__label-arrow\">LogisticRegression</label><div class=\"sk-toggleable__content\"><pre>LogisticRegression(class_weight={-1: 5.0, 1: 1.0}, max_iter=1000,\n",
              "                   solver=&#x27;liblinear&#x27;)</pre></div></div></div></div></div>"
            ]
          },
          "metadata": {},
          "execution_count": 14
        }
      ]
    },
    {
      "cell_type": "markdown",
      "source": [
        "Elasticnet not inlcuded, since i could not get it to converge"
      ],
      "metadata": {
        "id": "3DiHQf1VDQnn"
      }
    },
    {
      "cell_type": "code",
      "source": [
        "# Define hyperparameter grid\n",
        "param_grid = {'C': [0.001, 0.01, 0.1, 1, 10],\n",
        "              'penalty': ['l1', 'l2']}\n",
        "\n",
        "# Use Grid Search with cross-validation\n",
        "grid_search = GridSearchCV(model1, param_grid, cv=5)\n",
        "\n",
        "# Fit the model to training data\n",
        "grid_search.fit(X_val, y_val)\n",
        "\n",
        "# Get the best hyperparameters\n",
        "best_params = grid_search.best_params_"
      ],
      "metadata": {
        "id": "uZiwzI79S4aS"
      },
      "execution_count": null,
      "outputs": []
    },
    {
      "cell_type": "code",
      "source": [
        "best_params"
      ],
      "metadata": {
        "colab": {
          "base_uri": "https://localhost:8080/"
        },
        "id": "vKKi0hoxmamA",
        "outputId": "03a8bef4-55c8-419e-996a-3a29e05e8738"
      },
      "execution_count": null,
      "outputs": [
        {
          "output_type": "execute_result",
          "data": {
            "text/plain": [
              "{'C': 1, 'penalty': 'l1'}"
            ]
          },
          "metadata": {},
          "execution_count": 16
        }
      ]
    },
    {
      "cell_type": "code",
      "source": [
        "# Make predictions on the test set\n",
        "y_pred_test = model1.predict(X_testing)\n",
        "\n",
        "# Evaluate the model's performance\n",
        "accuracy = accuracy_score(y_testing, y_pred_test)\n",
        "precision = precision_score(y_testing, y_pred_test)\n",
        "recall = recall_score(y_testing, y_pred_test)\n",
        "f1 = f1_score(y_testing, y_pred_test)\n",
        "conf_matrix = confusion_matrix(y_testing, y_pred_test)\n",
        "\n",
        "# Print the evaluation metrics\n",
        "print(\"Accuracy:\", accuracy)\n",
        "print(\"Precision:\", precision)\n",
        "print(\"Recall:\", recall)\n",
        "print(\"F1 Score:\", f1)\n",
        "print(\"Confusion Matrix:\\n\", conf_matrix)"
      ],
      "metadata": {
        "colab": {
          "base_uri": "https://localhost:8080/"
        },
        "id": "fvZKUN4dPKCe",
        "outputId": "e872b2dc-90fa-4b43-8b06-a97ae7b7dc0f"
      },
      "execution_count": null,
      "outputs": [
        {
          "output_type": "stream",
          "name": "stdout",
          "text": [
            "Accuracy: 0.54\n",
            "Precision: 0.5285714285714286\n",
            "Recall: 0.3854166666666667\n",
            "F1 Score: 0.44578313253012053\n",
            "Confusion Matrix:\n",
            " [[71 33]\n",
            " [59 37]]\n"
          ]
        }
      ]
    },
    {
      "cell_type": "markdown",
      "source": [
        "The next model is using the result of the hyperparameter tuning"
      ],
      "metadata": {
        "id": "v6ttyd-CBHvL"
      }
    },
    {
      "cell_type": "code",
      "source": [
        "# Create a logistic regression model with class weights.\n",
        "model1_best_params = LogisticRegression(class_weight= class_weights, max_iter=1000, penalty = 'l1', solver = 'liblinear', C = 1.0)\n",
        "\n",
        "# Train the model on your training data\n",
        "model1_best_params.fit(X_train, y_train)"
      ],
      "metadata": {
        "colab": {
          "base_uri": "https://localhost:8080/",
          "height": 92
        },
        "id": "MHJzJ0x3Rx_h",
        "outputId": "8e710b36-5a80-4ad1-d584-dae4bcce342e"
      },
      "execution_count": null,
      "outputs": [
        {
          "output_type": "execute_result",
          "data": {
            "text/plain": [
              "LogisticRegression(class_weight={-1: 5.0, 1: 1.0}, max_iter=1000, penalty='l1',\n",
              "                   solver='liblinear')"
            ],
            "text/html": [
              "<style>#sk-container-id-2 {color: black;background-color: white;}#sk-container-id-2 pre{padding: 0;}#sk-container-id-2 div.sk-toggleable {background-color: white;}#sk-container-id-2 label.sk-toggleable__label {cursor: pointer;display: block;width: 100%;margin-bottom: 0;padding: 0.3em;box-sizing: border-box;text-align: center;}#sk-container-id-2 label.sk-toggleable__label-arrow:before {content: \"▸\";float: left;margin-right: 0.25em;color: #696969;}#sk-container-id-2 label.sk-toggleable__label-arrow:hover:before {color: black;}#sk-container-id-2 div.sk-estimator:hover label.sk-toggleable__label-arrow:before {color: black;}#sk-container-id-2 div.sk-toggleable__content {max-height: 0;max-width: 0;overflow: hidden;text-align: left;background-color: #f0f8ff;}#sk-container-id-2 div.sk-toggleable__content pre {margin: 0.2em;color: black;border-radius: 0.25em;background-color: #f0f8ff;}#sk-container-id-2 input.sk-toggleable__control:checked~div.sk-toggleable__content {max-height: 200px;max-width: 100%;overflow: auto;}#sk-container-id-2 input.sk-toggleable__control:checked~label.sk-toggleable__label-arrow:before {content: \"▾\";}#sk-container-id-2 div.sk-estimator input.sk-toggleable__control:checked~label.sk-toggleable__label {background-color: #d4ebff;}#sk-container-id-2 div.sk-label input.sk-toggleable__control:checked~label.sk-toggleable__label {background-color: #d4ebff;}#sk-container-id-2 input.sk-hidden--visually {border: 0;clip: rect(1px 1px 1px 1px);clip: rect(1px, 1px, 1px, 1px);height: 1px;margin: -1px;overflow: hidden;padding: 0;position: absolute;width: 1px;}#sk-container-id-2 div.sk-estimator {font-family: monospace;background-color: #f0f8ff;border: 1px dotted black;border-radius: 0.25em;box-sizing: border-box;margin-bottom: 0.5em;}#sk-container-id-2 div.sk-estimator:hover {background-color: #d4ebff;}#sk-container-id-2 div.sk-parallel-item::after {content: \"\";width: 100%;border-bottom: 1px solid gray;flex-grow: 1;}#sk-container-id-2 div.sk-label:hover label.sk-toggleable__label {background-color: #d4ebff;}#sk-container-id-2 div.sk-serial::before {content: \"\";position: absolute;border-left: 1px solid gray;box-sizing: border-box;top: 0;bottom: 0;left: 50%;z-index: 0;}#sk-container-id-2 div.sk-serial {display: flex;flex-direction: column;align-items: center;background-color: white;padding-right: 0.2em;padding-left: 0.2em;position: relative;}#sk-container-id-2 div.sk-item {position: relative;z-index: 1;}#sk-container-id-2 div.sk-parallel {display: flex;align-items: stretch;justify-content: center;background-color: white;position: relative;}#sk-container-id-2 div.sk-item::before, #sk-container-id-2 div.sk-parallel-item::before {content: \"\";position: absolute;border-left: 1px solid gray;box-sizing: border-box;top: 0;bottom: 0;left: 50%;z-index: -1;}#sk-container-id-2 div.sk-parallel-item {display: flex;flex-direction: column;z-index: 1;position: relative;background-color: white;}#sk-container-id-2 div.sk-parallel-item:first-child::after {align-self: flex-end;width: 50%;}#sk-container-id-2 div.sk-parallel-item:last-child::after {align-self: flex-start;width: 50%;}#sk-container-id-2 div.sk-parallel-item:only-child::after {width: 0;}#sk-container-id-2 div.sk-dashed-wrapped {border: 1px dashed gray;margin: 0 0.4em 0.5em 0.4em;box-sizing: border-box;padding-bottom: 0.4em;background-color: white;}#sk-container-id-2 div.sk-label label {font-family: monospace;font-weight: bold;display: inline-block;line-height: 1.2em;}#sk-container-id-2 div.sk-label-container {text-align: center;}#sk-container-id-2 div.sk-container {/* jupyter's `normalize.less` sets `[hidden] { display: none; }` but bootstrap.min.css set `[hidden] { display: none !important; }` so we also need the `!important` here to be able to override the default hidden behavior on the sphinx rendered scikit-learn.org. See: https://github.com/scikit-learn/scikit-learn/issues/21755 */display: inline-block !important;position: relative;}#sk-container-id-2 div.sk-text-repr-fallback {display: none;}</style><div id=\"sk-container-id-2\" class=\"sk-top-container\"><div class=\"sk-text-repr-fallback\"><pre>LogisticRegression(class_weight={-1: 5.0, 1: 1.0}, max_iter=1000, penalty=&#x27;l1&#x27;,\n",
              "                   solver=&#x27;liblinear&#x27;)</pre><b>In a Jupyter environment, please rerun this cell to show the HTML representation or trust the notebook. <br />On GitHub, the HTML representation is unable to render, please try loading this page with nbviewer.org.</b></div><div class=\"sk-container\" hidden><div class=\"sk-item\"><div class=\"sk-estimator sk-toggleable\"><input class=\"sk-toggleable__control sk-hidden--visually\" id=\"sk-estimator-id-2\" type=\"checkbox\" checked><label for=\"sk-estimator-id-2\" class=\"sk-toggleable__label sk-toggleable__label-arrow\">LogisticRegression</label><div class=\"sk-toggleable__content\"><pre>LogisticRegression(class_weight={-1: 5.0, 1: 1.0}, max_iter=1000, penalty=&#x27;l1&#x27;,\n",
              "                   solver=&#x27;liblinear&#x27;)</pre></div></div></div></div></div>"
            ]
          },
          "metadata": {},
          "execution_count": 18
        }
      ]
    },
    {
      "cell_type": "code",
      "source": [
        "# Make predictions on the validation set\n",
        "y_pred = model1_best_params.predict(X_val)\n",
        "\n",
        "# Evaluate the model's performance\n",
        "accuracy = accuracy_score(y_val, y_pred)\n",
        "precision = precision_score(y_val, y_pred)\n",
        "recall = recall_score(y_val, y_pred)\n",
        "f1 = f1_score(y_val, y_pred)\n",
        "conf_matrix = confusion_matrix(y_val, y_pred)\n",
        "\n",
        "# Print the evaluation metrics\n",
        "print(\"Accuracy:\", accuracy)\n",
        "print(\"Precision:\", precision)\n",
        "print(\"Recall:\", recall)\n",
        "print(\"F1 Score:\", f1)\n",
        "print(\"Confusion Matrix:\\n\", conf_matrix)"
      ],
      "metadata": {
        "colab": {
          "base_uri": "https://localhost:8080/"
        },
        "id": "RCr7d9dGSLWM",
        "outputId": "e5122f05-d75d-4075-ba48-7395a4f433cf"
      },
      "execution_count": null,
      "outputs": [
        {
          "output_type": "stream",
          "name": "stdout",
          "text": [
            "Accuracy: 0.7532307692307693\n",
            "Precision: 0.8823529411764706\n",
            "Recall: 0.604982206405694\n",
            "F1 Score: 0.7178043631245602\n",
            "Confusion Matrix:\n",
            " [[714  68]\n",
            " [333 510]]\n"
          ]
        }
      ]
    },
    {
      "cell_type": "code",
      "source": [
        "# Make predictions on the test set\n",
        "y_pred_test = model1_best_params.predict(X_testing)\n",
        "\n",
        "# Evaluate the model's performance\n",
        "accuracy = accuracy_score(y_testing, y_pred_test)\n",
        "precision = precision_score(y_testing, y_pred_test)\n",
        "recall = recall_score(y_testing, y_pred_test)\n",
        "f1 = f1_score(y_testing, y_pred_test)\n",
        "conf_matrix = confusion_matrix(y_testing, y_pred_test)\n",
        "\n",
        "# Print the evaluation metrics\n",
        "print(\"Accuracy:\", accuracy)\n",
        "print(\"Precision:\", precision)\n",
        "print(\"Recall:\", recall)\n",
        "print(\"F1 Score:\", f1)\n",
        "print(\"Confusion Matrix:\\n\", conf_matrix)"
      ],
      "metadata": {
        "colab": {
          "base_uri": "https://localhost:8080/"
        },
        "id": "WZs2YBCqSU8z",
        "outputId": "213e11e6-de66-46bd-f148-461b30b1fbca"
      },
      "execution_count": null,
      "outputs": [
        {
          "output_type": "stream",
          "name": "stdout",
          "text": [
            "Accuracy: 0.545\n",
            "Precision: 0.5342465753424658\n",
            "Recall: 0.40625\n",
            "F1 Score: 0.46153846153846156\n",
            "Confusion Matrix:\n",
            " [[70 34]\n",
            " [57 39]]\n"
          ]
        }
      ]
    },
    {
      "cell_type": "code",
      "source": [
        "# Train a Lasso model for feature selection\n",
        "lasso_model = LassoCV(cv=5)  # Use cross-validation to select the best alpha\n",
        "lasso_model.fit(X_train, y_train)"
      ],
      "metadata": {
        "colab": {
          "base_uri": "https://localhost:8080/",
          "height": 74
        },
        "id": "iNetl2_5iRgL",
        "outputId": "d5a3ba76-1202-43ba-a262-89d589d952c4"
      },
      "execution_count": null,
      "outputs": [
        {
          "output_type": "execute_result",
          "data": {
            "text/plain": [
              "LassoCV(cv=5)"
            ],
            "text/html": [
              "<style>#sk-container-id-3 {color: black;background-color: white;}#sk-container-id-3 pre{padding: 0;}#sk-container-id-3 div.sk-toggleable {background-color: white;}#sk-container-id-3 label.sk-toggleable__label {cursor: pointer;display: block;width: 100%;margin-bottom: 0;padding: 0.3em;box-sizing: border-box;text-align: center;}#sk-container-id-3 label.sk-toggleable__label-arrow:before {content: \"▸\";float: left;margin-right: 0.25em;color: #696969;}#sk-container-id-3 label.sk-toggleable__label-arrow:hover:before {color: black;}#sk-container-id-3 div.sk-estimator:hover label.sk-toggleable__label-arrow:before {color: black;}#sk-container-id-3 div.sk-toggleable__content {max-height: 0;max-width: 0;overflow: hidden;text-align: left;background-color: #f0f8ff;}#sk-container-id-3 div.sk-toggleable__content pre {margin: 0.2em;color: black;border-radius: 0.25em;background-color: #f0f8ff;}#sk-container-id-3 input.sk-toggleable__control:checked~div.sk-toggleable__content {max-height: 200px;max-width: 100%;overflow: auto;}#sk-container-id-3 input.sk-toggleable__control:checked~label.sk-toggleable__label-arrow:before {content: \"▾\";}#sk-container-id-3 div.sk-estimator input.sk-toggleable__control:checked~label.sk-toggleable__label {background-color: #d4ebff;}#sk-container-id-3 div.sk-label input.sk-toggleable__control:checked~label.sk-toggleable__label {background-color: #d4ebff;}#sk-container-id-3 input.sk-hidden--visually {border: 0;clip: rect(1px 1px 1px 1px);clip: rect(1px, 1px, 1px, 1px);height: 1px;margin: -1px;overflow: hidden;padding: 0;position: absolute;width: 1px;}#sk-container-id-3 div.sk-estimator {font-family: monospace;background-color: #f0f8ff;border: 1px dotted black;border-radius: 0.25em;box-sizing: border-box;margin-bottom: 0.5em;}#sk-container-id-3 div.sk-estimator:hover {background-color: #d4ebff;}#sk-container-id-3 div.sk-parallel-item::after {content: \"\";width: 100%;border-bottom: 1px solid gray;flex-grow: 1;}#sk-container-id-3 div.sk-label:hover label.sk-toggleable__label {background-color: #d4ebff;}#sk-container-id-3 div.sk-serial::before {content: \"\";position: absolute;border-left: 1px solid gray;box-sizing: border-box;top: 0;bottom: 0;left: 50%;z-index: 0;}#sk-container-id-3 div.sk-serial {display: flex;flex-direction: column;align-items: center;background-color: white;padding-right: 0.2em;padding-left: 0.2em;position: relative;}#sk-container-id-3 div.sk-item {position: relative;z-index: 1;}#sk-container-id-3 div.sk-parallel {display: flex;align-items: stretch;justify-content: center;background-color: white;position: relative;}#sk-container-id-3 div.sk-item::before, #sk-container-id-3 div.sk-parallel-item::before {content: \"\";position: absolute;border-left: 1px solid gray;box-sizing: border-box;top: 0;bottom: 0;left: 50%;z-index: -1;}#sk-container-id-3 div.sk-parallel-item {display: flex;flex-direction: column;z-index: 1;position: relative;background-color: white;}#sk-container-id-3 div.sk-parallel-item:first-child::after {align-self: flex-end;width: 50%;}#sk-container-id-3 div.sk-parallel-item:last-child::after {align-self: flex-start;width: 50%;}#sk-container-id-3 div.sk-parallel-item:only-child::after {width: 0;}#sk-container-id-3 div.sk-dashed-wrapped {border: 1px dashed gray;margin: 0 0.4em 0.5em 0.4em;box-sizing: border-box;padding-bottom: 0.4em;background-color: white;}#sk-container-id-3 div.sk-label label {font-family: monospace;font-weight: bold;display: inline-block;line-height: 1.2em;}#sk-container-id-3 div.sk-label-container {text-align: center;}#sk-container-id-3 div.sk-container {/* jupyter's `normalize.less` sets `[hidden] { display: none; }` but bootstrap.min.css set `[hidden] { display: none !important; }` so we also need the `!important` here to be able to override the default hidden behavior on the sphinx rendered scikit-learn.org. See: https://github.com/scikit-learn/scikit-learn/issues/21755 */display: inline-block !important;position: relative;}#sk-container-id-3 div.sk-text-repr-fallback {display: none;}</style><div id=\"sk-container-id-3\" class=\"sk-top-container\"><div class=\"sk-text-repr-fallback\"><pre>LassoCV(cv=5)</pre><b>In a Jupyter environment, please rerun this cell to show the HTML representation or trust the notebook. <br />On GitHub, the HTML representation is unable to render, please try loading this page with nbviewer.org.</b></div><div class=\"sk-container\" hidden><div class=\"sk-item\"><div class=\"sk-estimator sk-toggleable\"><input class=\"sk-toggleable__control sk-hidden--visually\" id=\"sk-estimator-id-3\" type=\"checkbox\" checked><label for=\"sk-estimator-id-3\" class=\"sk-toggleable__label sk-toggleable__label-arrow\">LassoCV</label><div class=\"sk-toggleable__content\"><pre>LassoCV(cv=5)</pre></div></div></div></div></div>"
            ]
          },
          "metadata": {},
          "execution_count": 21
        }
      ]
    },
    {
      "cell_type": "code",
      "source": [
        "# Select features based on non-zero coefficients\n",
        "selected_features = SelectFromModel(lasso_model, prefit=True).get_support()\n",
        "\n",
        "# Train logistic regression model on the selected features\n",
        "model_2 = LogisticRegression(class_weight= class_weights, max_iter=1000, solver='liblinear')\n",
        "model_2.fit(X_train[:, selected_features], y_train)\n",
        "\n",
        "# Get feature names and coefficients\n",
        "feature_names = train_data.columns\n",
        "\n",
        "selected_feature_names = feature_names[selected_features]\n",
        "\n",
        "coefficients = model_2.coef_[0]\n",
        "\n",
        "# Sort features by coefficient value (in descending order)\n",
        "sorted_indices = np.argsort(np.abs(coefficients))[::-1]\n",
        "selected_feature_names = selected_feature_names[sorted_indices]\n",
        "coefficients = coefficients[sorted_indices]\n",
        "\n",
        "# Report the selected features and their coefficients\n",
        "for feature, coef in zip(selected_feature_names, coefficients):\n",
        "    print(f\"Feature: {feature}, Coefficient: {coef:.4f}\")\n",
        "\n",
        "# Size of the support for relevant features\n",
        "support_size = np.sum(selected_features)\n",
        "print(f\"Support size: {support_size}\")"
      ],
      "metadata": {
        "colab": {
          "base_uri": "https://localhost:8080/"
        },
        "id": "rue_pP00hA1t",
        "outputId": "da2663c2-1caa-43a6-b630-dde0432cb0b3"
      },
      "execution_count": null,
      "outputs": [
        {
          "output_type": "stream",
          "name": "stdout",
          "text": [
            "Feature: cap-shape=bell, Coefficient: 2.6986\n",
            "Feature: cap-shape=flat, Coefficient: 2.3394\n",
            "Feature: spore-print-color=chocolate, Coefficient: 1.1943\n",
            "Feature: cap-shape=convex, Coefficient: -0.7528\n",
            "Feature: odor=creosote, Coefficient: -0.6898\n",
            "Feature: bruises?=no, Coefficient: -0.6627\n",
            "Feature: odor=none, Coefficient: 0.5296\n",
            "Feature: spore-print-color=white, Coefficient: 0.4258\n",
            "Feature: stalk-color-above-ring=gray, Coefficient: -0.3709\n",
            "Feature: odor=foul, Coefficient: -0.3374\n",
            "Feature: habitat=grasses, Coefficient: 0.2540\n",
            "Feature: cap-color=yellow, Coefficient: 0.2522\n",
            "Feature: gill-size=broad, Coefficient: -0.1598\n",
            "Feature: habitat=paths, Coefficient: 0.1552\n",
            "Feature: stalk-surface-below-ring=smooth, Coefficient: -0.1489\n",
            "Feature: stalk-surface-above-ring=fibrous, Coefficient: 0.1489\n",
            "Feature: stalk-surface-below-ring=fibrous, Coefficient: 0.1488\n",
            "Feature: population=scattered, Coefficient: -0.1053\n",
            "Feature: gill-color=gray, Coefficient: -0.1004\n",
            "Feature: population=solitary, Coefficient: -0.0519\n",
            "Feature: stalk-color-below-ring=pink, Coefficient: -0.0489\n",
            "Feature: spore-print-color=black, Coefficient: -0.0406\n",
            "Feature: odor=fishy, Coefficient: 0.0343\n",
            "Feature: gill-color=white, Coefficient: 0.0311\n",
            "Feature: stalk-color-above-ring=white, Coefficient: 0.0242\n",
            "Feature: spore-print-color=brown, Coefficient: -0.0034\n",
            "Feature: habitat=woods, Coefficient: 0.0004\n",
            "Support size: 27\n"
          ]
        }
      ]
    },
    {
      "cell_type": "code",
      "source": [
        "# Define hyperparameter grid\n",
        "param_grid_2 = {'C': [0.001, 0.01, 0.1, 1, 10],\n",
        "              'penalty': ['l1', 'l2']}\n",
        "\n",
        "# Use Grid Search with cross-validation\n",
        "grid_search_2 = GridSearchCV(model_2, param_grid, cv=5)\n",
        "\n",
        "# Fit the model to training data\n",
        "grid_search_2.fit(X_val[:, selected_features], y_val)\n",
        "\n",
        "# Get the best hyperparameters\n",
        "best_params_2 = grid_search_2.best_params_"
      ],
      "metadata": {
        "id": "mQ37e0MYyWcB"
      },
      "execution_count": null,
      "outputs": []
    },
    {
      "cell_type": "code",
      "source": [
        "print(best_params_2)"
      ],
      "metadata": {
        "colab": {
          "base_uri": "https://localhost:8080/"
        },
        "id": "ZFDH28xOzBK1",
        "outputId": "797b06f6-e21f-4d04-9aad-f621e534ea64"
      },
      "execution_count": null,
      "outputs": [
        {
          "output_type": "stream",
          "name": "stdout",
          "text": [
            "{'C': 1, 'penalty': 'l1'}\n"
          ]
        }
      ]
    },
    {
      "cell_type": "code",
      "source": [
        "# Make predictions on the validation set\n",
        "y_pred = model_2.predict(X_val[:,selected_features])\n",
        "\n",
        "# Evaluate the model's performance\n",
        "accuracy = accuracy_score(y_val, y_pred)\n",
        "precision = precision_score(y_val, y_pred)\n",
        "recall = recall_score(y_val, y_pred)\n",
        "f1 = f1_score(y_val, y_pred)\n",
        "conf_matrix = confusion_matrix(y_val, y_pred)\n",
        "\n",
        "# Print the evaluation metrics\n",
        "print(\"Accuracy:\", accuracy)\n",
        "print(\"Precision:\", precision)\n",
        "print(\"Recall:\", recall)\n",
        "print(\"F1 Score:\", f1)\n",
        "print(\"Confusion Matrix:\\n\", conf_matrix)"
      ],
      "metadata": {
        "colab": {
          "base_uri": "https://localhost:8080/"
        },
        "id": "F40lhbd8S3jO",
        "outputId": "42921dc1-8990-4050-f45d-97f3ee972a1b"
      },
      "execution_count": null,
      "outputs": [
        {
          "output_type": "stream",
          "name": "stdout",
          "text": [
            "Accuracy: 0.7563076923076923\n",
            "Precision: 0.882051282051282\n",
            "Recall: 0.6120996441281139\n",
            "F1 Score: 0.7226890756302521\n",
            "Confusion Matrix:\n",
            " [[713  69]\n",
            " [327 516]]\n"
          ]
        }
      ]
    },
    {
      "cell_type": "code",
      "source": [
        "# Make predictions on the test set\n",
        "y_pred_test = model_2.predict(X_testing[:, selected_features])\n",
        "\n",
        "# Evaluate the model's performance\n",
        "accuracy = accuracy_score(y_testing, y_pred_test)\n",
        "precision = precision_score(y_testing, y_pred_test)\n",
        "recall = recall_score(y_testing, y_pred_test)\n",
        "f1 = f1_score(y_testing, y_pred_test)\n",
        "conf_matrix = confusion_matrix(y_testing, y_pred_test)\n",
        "\n",
        "# Print the evaluation metrics\n",
        "print(\"Accuracy:\", accuracy)\n",
        "print(\"Precision:\", precision)\n",
        "print(\"Recall:\", recall)\n",
        "print(\"F1 Score:\", f1)\n",
        "print(\"Confusion Matrix:\\n\", conf_matrix)"
      ],
      "metadata": {
        "colab": {
          "base_uri": "https://localhost:8080/"
        },
        "id": "aFUpg0iRT8Jq",
        "outputId": "c139f6b7-e146-404a-ebd5-a262a2a27736"
      },
      "execution_count": null,
      "outputs": [
        {
          "output_type": "stream",
          "name": "stdout",
          "text": [
            "Accuracy: 0.565\n",
            "Precision: 0.5616438356164384\n",
            "Recall: 0.4270833333333333\n",
            "F1 Score: 0.485207100591716\n",
            "Confusion Matrix:\n",
            " [[72 32]\n",
            " [55 41]]\n"
          ]
        }
      ]
    },
    {
      "cell_type": "markdown",
      "source": [
        "BoLasso"
      ],
      "metadata": {
        "id": "M41xASBT96W2"
      }
    },
    {
      "cell_type": "code",
      "source": [
        "n_bootstraps = 100  # Number of bootstrap samples\n",
        "alpha_values = np.logspace(-4, 4, 100)  # Range of alpha values for LassoCV\n",
        "\n",
        "selected_features_boot = None  # To store the common selected features\n",
        "\n",
        "for _ in range(n_bootstraps):\n",
        "    # Generate a bootstrap sample\n",
        "    X_bootstrap, y_bootstrap = resample(X, y, random_state=np.random.randint(0, 1000))\n",
        "\n",
        "    # Fit Lasso model with cross-validation to select the best alpha\n",
        "    bolasso_model = LassoCV(alphas=alpha_values, cv=5, max_iter = 3000)\n",
        "    bolasso_model.fit(X_bootstrap, y_bootstrap)\n",
        "\n",
        "    # Get the selected features based on the best alpha\n",
        "    selected = np.abs(bolasso_model.coef_) > 1e-7  # Choose a threshold\n",
        "\n",
        "    # If it's the first iteration, initialize selected_features\n",
        "    if selected_features_boot is None:\n",
        "        selected_features_boot = selected\n",
        "    else:\n",
        "        # Update selected_features by taking the intersection with the new selected features\n",
        "        # Update the selected features by computing the intersection\n",
        "        selected_features_boot = selected_features_boot & selected\n",
        "\n",
        "# Extract the feature coefficients for the common features\n",
        "w_hat_J = bolasso_model.coef_[selected_features_boot]\n",
        "\n",
        "# Print the coefficients and their corresponding feature names\n",
        "selected_feature_names = feature_names[selected_features_boot]\n",
        "\n",
        "for feature, coef in zip(selected_feature_names, w_hat_J):\n",
        "    print(f\"Feature: {feature}, Coefficient: {coef:.4f}\")\n",
        "\n",
        "print(f\"Number of selected features: {selected_features_boot.sum()}\")"
      ],
      "metadata": {
        "id": "gMcqGMNsZsR3",
        "colab": {
          "base_uri": "https://localhost:8080/"
        },
        "outputId": "f7266ddb-9573-4fe9-ba1d-391ffe125aa1"
      },
      "execution_count": null,
      "outputs": [
        {
          "output_type": "stream",
          "name": "stdout",
          "text": [
            "Feature: cap-shape=bell, Coefficient: 1.0903\n",
            "Feature: cap-shape=flat, Coefficient: 1.0727\n",
            "Feature: cap-shape=convex, Coefficient: -0.1634\n",
            "Feature: spore-print-color=chocolate, Coefficient: 0.1744\n",
            "Feature: spore-print-color=white, Coefficient: 0.2323\n",
            "Number of selected features: 5\n"
          ]
        }
      ]
    },
    {
      "cell_type": "code",
      "source": [
        "X_final = X[:, selected_features_boot]"
      ],
      "metadata": {
        "id": "C3m3sRH9JQ46"
      },
      "execution_count": null,
      "outputs": []
    },
    {
      "cell_type": "code",
      "source": [
        "# Train a Lasso model for feature selection\n",
        "Bolasso_model_feature_selection = LassoCV(cv=5)\n",
        "Bolasso_model_feature_selection.fit(X_final, y)"
      ],
      "metadata": {
        "id": "ZttbtPacL3uI",
        "colab": {
          "base_uri": "https://localhost:8080/",
          "height": 74
        },
        "outputId": "0e1807ff-9abd-452b-90ce-a69f23e5b25c"
      },
      "execution_count": null,
      "outputs": [
        {
          "output_type": "execute_result",
          "data": {
            "text/plain": [
              "LassoCV(cv=5)"
            ],
            "text/html": [
              "<style>#sk-container-id-4 {color: black;background-color: white;}#sk-container-id-4 pre{padding: 0;}#sk-container-id-4 div.sk-toggleable {background-color: white;}#sk-container-id-4 label.sk-toggleable__label {cursor: pointer;display: block;width: 100%;margin-bottom: 0;padding: 0.3em;box-sizing: border-box;text-align: center;}#sk-container-id-4 label.sk-toggleable__label-arrow:before {content: \"▸\";float: left;margin-right: 0.25em;color: #696969;}#sk-container-id-4 label.sk-toggleable__label-arrow:hover:before {color: black;}#sk-container-id-4 div.sk-estimator:hover label.sk-toggleable__label-arrow:before {color: black;}#sk-container-id-4 div.sk-toggleable__content {max-height: 0;max-width: 0;overflow: hidden;text-align: left;background-color: #f0f8ff;}#sk-container-id-4 div.sk-toggleable__content pre {margin: 0.2em;color: black;border-radius: 0.25em;background-color: #f0f8ff;}#sk-container-id-4 input.sk-toggleable__control:checked~div.sk-toggleable__content {max-height: 200px;max-width: 100%;overflow: auto;}#sk-container-id-4 input.sk-toggleable__control:checked~label.sk-toggleable__label-arrow:before {content: \"▾\";}#sk-container-id-4 div.sk-estimator input.sk-toggleable__control:checked~label.sk-toggleable__label {background-color: #d4ebff;}#sk-container-id-4 div.sk-label input.sk-toggleable__control:checked~label.sk-toggleable__label {background-color: #d4ebff;}#sk-container-id-4 input.sk-hidden--visually {border: 0;clip: rect(1px 1px 1px 1px);clip: rect(1px, 1px, 1px, 1px);height: 1px;margin: -1px;overflow: hidden;padding: 0;position: absolute;width: 1px;}#sk-container-id-4 div.sk-estimator {font-family: monospace;background-color: #f0f8ff;border: 1px dotted black;border-radius: 0.25em;box-sizing: border-box;margin-bottom: 0.5em;}#sk-container-id-4 div.sk-estimator:hover {background-color: #d4ebff;}#sk-container-id-4 div.sk-parallel-item::after {content: \"\";width: 100%;border-bottom: 1px solid gray;flex-grow: 1;}#sk-container-id-4 div.sk-label:hover label.sk-toggleable__label {background-color: #d4ebff;}#sk-container-id-4 div.sk-serial::before {content: \"\";position: absolute;border-left: 1px solid gray;box-sizing: border-box;top: 0;bottom: 0;left: 50%;z-index: 0;}#sk-container-id-4 div.sk-serial {display: flex;flex-direction: column;align-items: center;background-color: white;padding-right: 0.2em;padding-left: 0.2em;position: relative;}#sk-container-id-4 div.sk-item {position: relative;z-index: 1;}#sk-container-id-4 div.sk-parallel {display: flex;align-items: stretch;justify-content: center;background-color: white;position: relative;}#sk-container-id-4 div.sk-item::before, #sk-container-id-4 div.sk-parallel-item::before {content: \"\";position: absolute;border-left: 1px solid gray;box-sizing: border-box;top: 0;bottom: 0;left: 50%;z-index: -1;}#sk-container-id-4 div.sk-parallel-item {display: flex;flex-direction: column;z-index: 1;position: relative;background-color: white;}#sk-container-id-4 div.sk-parallel-item:first-child::after {align-self: flex-end;width: 50%;}#sk-container-id-4 div.sk-parallel-item:last-child::after {align-self: flex-start;width: 50%;}#sk-container-id-4 div.sk-parallel-item:only-child::after {width: 0;}#sk-container-id-4 div.sk-dashed-wrapped {border: 1px dashed gray;margin: 0 0.4em 0.5em 0.4em;box-sizing: border-box;padding-bottom: 0.4em;background-color: white;}#sk-container-id-4 div.sk-label label {font-family: monospace;font-weight: bold;display: inline-block;line-height: 1.2em;}#sk-container-id-4 div.sk-label-container {text-align: center;}#sk-container-id-4 div.sk-container {/* jupyter's `normalize.less` sets `[hidden] { display: none; }` but bootstrap.min.css set `[hidden] { display: none !important; }` so we also need the `!important` here to be able to override the default hidden behavior on the sphinx rendered scikit-learn.org. See: https://github.com/scikit-learn/scikit-learn/issues/21755 */display: inline-block !important;position: relative;}#sk-container-id-4 div.sk-text-repr-fallback {display: none;}</style><div id=\"sk-container-id-4\" class=\"sk-top-container\"><div class=\"sk-text-repr-fallback\"><pre>LassoCV(cv=5)</pre><b>In a Jupyter environment, please rerun this cell to show the HTML representation or trust the notebook. <br />On GitHub, the HTML representation is unable to render, please try loading this page with nbviewer.org.</b></div><div class=\"sk-container\" hidden><div class=\"sk-item\"><div class=\"sk-estimator sk-toggleable\"><input class=\"sk-toggleable__control sk-hidden--visually\" id=\"sk-estimator-id-4\" type=\"checkbox\" checked><label for=\"sk-estimator-id-4\" class=\"sk-toggleable__label sk-toggleable__label-arrow\">LassoCV</label><div class=\"sk-toggleable__content\"><pre>LassoCV(cv=5)</pre></div></div></div></div></div>"
            ]
          },
          "metadata": {},
          "execution_count": 29
        }
      ]
    },
    {
      "cell_type": "code",
      "source": [
        "# Make predictions on the validation set\n",
        "y_pred = Bolasso_model_feature_selection.predict(X_val[:, selected_features_boot])"
      ],
      "metadata": {
        "id": "wmtPT810oH-a"
      },
      "execution_count": null,
      "outputs": []
    },
    {
      "cell_type": "code",
      "source": [
        "print(y_pred)"
      ],
      "metadata": {
        "colab": {
          "base_uri": "https://localhost:8080/"
        },
        "id": "JTudtvrUtIMX",
        "outputId": "37ff4449-f9bf-4b38-91b1-1936fca22626"
      },
      "execution_count": null,
      "outputs": [
        {
          "output_type": "stream",
          "name": "stdout",
          "text": [
            "[ 0.60551352 -0.46075633 -0.46075633 ... -0.46075633 -0.46075633\n",
            "  0.60551352]\n"
          ]
        }
      ]
    },
    {
      "cell_type": "code",
      "source": [
        "# Train logistic regression model on the bootstrapeed selected features\n",
        "model_3 = LogisticRegression(class_weight= class_weights, max_iter=1000, penalty='l1', solver = 'liblinear', C = 1.0)\n",
        "model_3.fit(X_final, y)"
      ],
      "metadata": {
        "colab": {
          "base_uri": "https://localhost:8080/",
          "height": 92
        },
        "id": "MLOh8DatckAa",
        "outputId": "745c5cf0-8c7a-4ebf-c693-32882f083ddd"
      },
      "execution_count": null,
      "outputs": [
        {
          "output_type": "execute_result",
          "data": {
            "text/plain": [
              "LogisticRegression(class_weight={-1: 5.0, 1: 1.0}, max_iter=1000, penalty='l1',\n",
              "                   solver='liblinear')"
            ],
            "text/html": [
              "<style>#sk-container-id-5 {color: black;background-color: white;}#sk-container-id-5 pre{padding: 0;}#sk-container-id-5 div.sk-toggleable {background-color: white;}#sk-container-id-5 label.sk-toggleable__label {cursor: pointer;display: block;width: 100%;margin-bottom: 0;padding: 0.3em;box-sizing: border-box;text-align: center;}#sk-container-id-5 label.sk-toggleable__label-arrow:before {content: \"▸\";float: left;margin-right: 0.25em;color: #696969;}#sk-container-id-5 label.sk-toggleable__label-arrow:hover:before {color: black;}#sk-container-id-5 div.sk-estimator:hover label.sk-toggleable__label-arrow:before {color: black;}#sk-container-id-5 div.sk-toggleable__content {max-height: 0;max-width: 0;overflow: hidden;text-align: left;background-color: #f0f8ff;}#sk-container-id-5 div.sk-toggleable__content pre {margin: 0.2em;color: black;border-radius: 0.25em;background-color: #f0f8ff;}#sk-container-id-5 input.sk-toggleable__control:checked~div.sk-toggleable__content {max-height: 200px;max-width: 100%;overflow: auto;}#sk-container-id-5 input.sk-toggleable__control:checked~label.sk-toggleable__label-arrow:before {content: \"▾\";}#sk-container-id-5 div.sk-estimator input.sk-toggleable__control:checked~label.sk-toggleable__label {background-color: #d4ebff;}#sk-container-id-5 div.sk-label input.sk-toggleable__control:checked~label.sk-toggleable__label {background-color: #d4ebff;}#sk-container-id-5 input.sk-hidden--visually {border: 0;clip: rect(1px 1px 1px 1px);clip: rect(1px, 1px, 1px, 1px);height: 1px;margin: -1px;overflow: hidden;padding: 0;position: absolute;width: 1px;}#sk-container-id-5 div.sk-estimator {font-family: monospace;background-color: #f0f8ff;border: 1px dotted black;border-radius: 0.25em;box-sizing: border-box;margin-bottom: 0.5em;}#sk-container-id-5 div.sk-estimator:hover {background-color: #d4ebff;}#sk-container-id-5 div.sk-parallel-item::after {content: \"\";width: 100%;border-bottom: 1px solid gray;flex-grow: 1;}#sk-container-id-5 div.sk-label:hover label.sk-toggleable__label {background-color: #d4ebff;}#sk-container-id-5 div.sk-serial::before {content: \"\";position: absolute;border-left: 1px solid gray;box-sizing: border-box;top: 0;bottom: 0;left: 50%;z-index: 0;}#sk-container-id-5 div.sk-serial {display: flex;flex-direction: column;align-items: center;background-color: white;padding-right: 0.2em;padding-left: 0.2em;position: relative;}#sk-container-id-5 div.sk-item {position: relative;z-index: 1;}#sk-container-id-5 div.sk-parallel {display: flex;align-items: stretch;justify-content: center;background-color: white;position: relative;}#sk-container-id-5 div.sk-item::before, #sk-container-id-5 div.sk-parallel-item::before {content: \"\";position: absolute;border-left: 1px solid gray;box-sizing: border-box;top: 0;bottom: 0;left: 50%;z-index: -1;}#sk-container-id-5 div.sk-parallel-item {display: flex;flex-direction: column;z-index: 1;position: relative;background-color: white;}#sk-container-id-5 div.sk-parallel-item:first-child::after {align-self: flex-end;width: 50%;}#sk-container-id-5 div.sk-parallel-item:last-child::after {align-self: flex-start;width: 50%;}#sk-container-id-5 div.sk-parallel-item:only-child::after {width: 0;}#sk-container-id-5 div.sk-dashed-wrapped {border: 1px dashed gray;margin: 0 0.4em 0.5em 0.4em;box-sizing: border-box;padding-bottom: 0.4em;background-color: white;}#sk-container-id-5 div.sk-label label {font-family: monospace;font-weight: bold;display: inline-block;line-height: 1.2em;}#sk-container-id-5 div.sk-label-container {text-align: center;}#sk-container-id-5 div.sk-container {/* jupyter's `normalize.less` sets `[hidden] { display: none; }` but bootstrap.min.css set `[hidden] { display: none !important; }` so we also need the `!important` here to be able to override the default hidden behavior on the sphinx rendered scikit-learn.org. See: https://github.com/scikit-learn/scikit-learn/issues/21755 */display: inline-block !important;position: relative;}#sk-container-id-5 div.sk-text-repr-fallback {display: none;}</style><div id=\"sk-container-id-5\" class=\"sk-top-container\"><div class=\"sk-text-repr-fallback\"><pre>LogisticRegression(class_weight={-1: 5.0, 1: 1.0}, max_iter=1000, penalty=&#x27;l1&#x27;,\n",
              "                   solver=&#x27;liblinear&#x27;)</pre><b>In a Jupyter environment, please rerun this cell to show the HTML representation or trust the notebook. <br />On GitHub, the HTML representation is unable to render, please try loading this page with nbviewer.org.</b></div><div class=\"sk-container\" hidden><div class=\"sk-item\"><div class=\"sk-estimator sk-toggleable\"><input class=\"sk-toggleable__control sk-hidden--visually\" id=\"sk-estimator-id-5\" type=\"checkbox\" checked><label for=\"sk-estimator-id-5\" class=\"sk-toggleable__label sk-toggleable__label-arrow\">LogisticRegression</label><div class=\"sk-toggleable__content\"><pre>LogisticRegression(class_weight={-1: 5.0, 1: 1.0}, max_iter=1000, penalty=&#x27;l1&#x27;,\n",
              "                   solver=&#x27;liblinear&#x27;)</pre></div></div></div></div></div>"
            ]
          },
          "metadata": {},
          "execution_count": 32
        }
      ]
    },
    {
      "cell_type": "code",
      "source": [
        "# Make predictions on the validation set\n",
        "y_pred = model_3.predict(X_val[:, selected_features_boot])\n",
        "\n",
        "# Evaluate the model's performance\n",
        "accuracy = accuracy_score(y_val, y_pred)\n",
        "precision = precision_score(y_val, y_pred)\n",
        "recall = recall_score(y_val, y_pred)\n",
        "f1 = f1_score(y_val, y_pred)\n",
        "conf_matrix = confusion_matrix(y_val, y_pred)\n",
        "\n",
        "# Print the evaluation metrics\n",
        "print(\"Accuracy:\", accuracy)\n",
        "print(\"Precision:\", precision)\n",
        "print(\"Recall:\", recall)\n",
        "print(\"F1 Score:\", f1)\n",
        "print(\"Confusion Matrix:\\n\", conf_matrix)"
      ],
      "metadata": {
        "colab": {
          "base_uri": "https://localhost:8080/"
        },
        "id": "Pk2B0oYnBZn1",
        "outputId": "3aea6893-91e5-4388-9fa1-59f331923686"
      },
      "execution_count": null,
      "outputs": [
        {
          "output_type": "stream",
          "name": "stdout",
          "text": [
            "Accuracy: 0.7993846153846154\n",
            "Precision: 0.8488529014844804\n",
            "Recall: 0.7461447212336892\n",
            "F1 Score: 0.7941919191919191\n",
            "Confusion Matrix:\n",
            " [[670 112]\n",
            " [214 629]]\n"
          ]
        }
      ]
    },
    {
      "cell_type": "code",
      "source": [
        "# Make predictions on the test set\n",
        "y_pred_test = model_3.predict(X_testing[:, selected_features_boot])\n",
        "\n",
        "# Evaluate the model's performance\n",
        "accuracy = accuracy_score(y_testing, y_pred_test)\n",
        "precision = precision_score(y_testing, y_pred_test)\n",
        "recall = recall_score(y_testing, y_pred_test)\n",
        "f1 = f1_score(y_testing, y_pred_test)\n",
        "conf_matrix = confusion_matrix(y_testing, y_pred_test)\n",
        "\n",
        "# Print the evaluation metrics\n",
        "print(\"Accuracy:\", accuracy)\n",
        "print(\"Precision:\", precision)\n",
        "print(\"Recall:\", recall)\n",
        "print(\"F1 Score:\", f1)\n",
        "print(\"Confusion Matrix:\\n\", conf_matrix)"
      ],
      "metadata": {
        "colab": {
          "base_uri": "https://localhost:8080/"
        },
        "id": "S6Ev9b7vdtT8",
        "outputId": "1fd2673e-ee59-431b-ad65-0c6298ff5232"
      },
      "execution_count": null,
      "outputs": [
        {
          "output_type": "stream",
          "name": "stdout",
          "text": [
            "Accuracy: 0.55\n",
            "Precision: 0.5340909090909091\n",
            "Recall: 0.4895833333333333\n",
            "F1 Score: 0.5108695652173912\n",
            "Confusion Matrix:\n",
            " [[63 41]\n",
            " [49 47]]\n"
          ]
        }
      ]
    },
    {
      "cell_type": "markdown",
      "source": [
        "5) Compare the two models by making a scatter plot where the x-coordinate of each point is the\n",
        "coefficient for a feature using the first classifier and the y-coordinate of the point is the coefficient\n",
        "value for the second classifier (noting that some of the coefficients for the second classifier will be\n",
        "exactly zero if there was feature selection)"
      ],
      "metadata": {
        "id": "9N2pEGWFy4ss"
      }
    },
    {
      "cell_type": "code",
      "source": [
        "# Create an array of zeros with the same shape as bolasso_coefficients\n",
        "zero_padding = np.zeros(abs(len(model_2.coef_.flatten())-len(model1.coef_.flatten())))\n",
        "\n",
        "# Append the zero_padding to the end of bolasso_coefficients\n",
        "lasso_with_zeros = np.append(model_2.coef_, zero_padding)"
      ],
      "metadata": {
        "id": "beFhNZ0ta_Cw"
      },
      "execution_count": null,
      "outputs": []
    },
    {
      "cell_type": "code",
      "source": [
        "coefficients_model1 = model1.coef_.flatten()\n",
        "coefficients_model2 = lasso_with_zeros"
      ],
      "metadata": {
        "id": "JOxXCOnCbiaF"
      },
      "execution_count": null,
      "outputs": []
    },
    {
      "cell_type": "code",
      "source": [
        "# Create a scatter plot with different shapes and colors\n",
        "plt.scatter(coefficients_model1, coefficients_model2, alpha=0.5, c='b', marker='o', label='Classifier 1')\n",
        "plt.scatter(coefficients_model1, coefficients_model2, alpha=0.5, c='r', marker='x', label='Classifier 2')\n",
        "\n",
        "plt.xlabel(\"Coefficients - LogRegr w L2 1\")\n",
        "plt.ylabel(\"Coefficients - Lasso w HP Tunning2\")\n",
        "plt.title(\"Coefficient Comparison\")\n",
        "\n",
        "# Show or save the plot\n",
        "plt.legend()\n",
        "plt.grid()\n",
        "plt.show()"
      ],
      "metadata": {
        "colab": {
          "base_uri": "https://localhost:8080/",
          "height": 472
        },
        "id": "RjDKmzSmaOxc",
        "outputId": "4ec42690-b9b8-4ce7-ac93-50af322d939a"
      },
      "execution_count": null,
      "outputs": [
        {
          "output_type": "display_data",
          "data": {
            "text/plain": [
              "<Figure size 640x480 with 1 Axes>"
            ],
            "image/png": "[encoded data removed]"
          },
          "metadata": {}
        }
      ]
    },
    {
      "cell_type": "code",
      "source": [
        "# Create an array of zeros with the same shape as bolasso_coefficients\n",
        "zeros = np.zeros(abs(len(Bolasso_model_feature_selection.coef_)-len(model1.coef_.flatten())))\n",
        "\n",
        "# Append the zero_padding to the end of bolasso_coefficients\n",
        "bolasso_coefficients_with_zeros = np.append(Bolasso_model_feature_selection.coef_, zeros)"
      ],
      "metadata": {
        "id": "5S3kd-3sRsRd"
      },
      "execution_count": null,
      "outputs": []
    },
    {
      "cell_type": "code",
      "source": [
        "coefficients_model1 = model1.coef_.flatten()\n",
        "coefficients_model2 = bolasso_coefficients_with_zeros"
      ],
      "metadata": {
        "id": "tiVyYw85jRkd"
      },
      "execution_count": null,
      "outputs": []
    },
    {
      "cell_type": "code",
      "source": [
        "# Create a scatter plot with different shapes and colors\n",
        "plt.scatter(coefficients_model1, coefficients_model2, alpha=0.5, c='k', marker='.', label='Classifier 1')\n",
        "plt.scatter(coefficients_model1, coefficients_model2, alpha=0.5, c='r', marker='x', label='Classifier 2')\n",
        "\n",
        "plt.xlabel(\"Coefficients - LogReg w L2 1\")\n",
        "plt.ylabel(\"Coefficients - LogReg Bolasso 2\")\n",
        "plt.title(\"Coefficient Comparison\")\n",
        "\n",
        "# Show or save the plot\n",
        "plt.legend()\n",
        "plt.grid()\n",
        "plt.show()"
      ],
      "metadata": {
        "id": "6XAnZEu3jK-w",
        "colab": {
          "base_uri": "https://localhost:8080/",
          "height": 472
        },
        "outputId": "881c669e-a69a-480d-81fb-2c5f24a2833b"
      },
      "execution_count": null,
      "outputs": [
        {
          "output_type": "display_data",
          "data": {
            "text/plain": [
              "<Figure size 640x480 with 1 Axes>"
            ],
            "image/png": "[encoded data removed]"
          },
          "metadata": {}
        }
      ]
    },
    {
      "cell_type": "markdown",
      "source": [
        "For a non-linear classifier using a kernel support vector machine (SVM), you can choose the following design choices:\n",
        "\n",
        "Model and Loss Function:\n",
        "Model: Kernel Support Vector Machine (SVM)\n",
        "Loss Function: Hinge loss is typically used for SVM. It encourages the correct classification of data points and maximizes the margin between the support vectors.\n",
        "\n",
        "Regularization:\n",
        "SVM inherently includes regularization by introducing a penalty term for misclassification and controlling the margin. The regularization parameter is typically denoted as 'C' in SVM. A smaller 'C' encourages a larger margin but allows some misclassification, while a larger 'C' penalizes misclassification more heavily. You can choose 'C' based on cross-validation or validation performance.\n",
        "\n",
        "Kernel Function:\n",
        "\n",
        "SVM allows to choose different kernel functions to model non-linear decision boundaries.\n",
        "            \n",
        "Radial Basis Function (RBF) Kernel: Suitable for capturing complex non-linear decision boundaries.\n",
        "\n",
        "Polynomial Kernel: Suitable for data with polynomial structures.\n",
        "\n",
        "Sigmoid Kernel: Suitable for data with sigmoid-like decision boundaries.\n",
        "\n",
        "Hyperparameter Tuning:\n",
        "Perform hyperparameter tuning to select the optimal values for 'C' and kernel-specific hyperparameters (e.g., gamma for RBF kernel or degree for polynomial kernel).\n",
        "Use techniques like cross-validation or grid search to find the best hyperparameters that maximize the model's performance on a validation set.\n",
        "\n",
        "Feature Scaling:\n",
        "SVM is sensitive to the scale of features, so it's a good practice to perform feature scaling (e.g., standardization) to ensure that all features contribute equally to the decision boundary."
      ],
      "metadata": {
        "id": "4AMSUUsC4TWY"
      }
    },
    {
      "cell_type": "code",
      "source": [
        "# Perform feature scaling\n",
        "scaler = StandardScaler()\n",
        "X_scaled = scaler.fit_transform(X)\n",
        "\n",
        "# Define the SVM model with RBF kernel\n",
        "svm_classifier = SVC(kernel='sigmoid', class_weight = class_weights)\n",
        "\n",
        "# Define hyperparameters for tuning\n",
        "param_grid = {\n",
        "    'C': [0.1, 1, 10],\n",
        "    'gamma': [0.001, 0.01, 0.1]\n",
        "}\n",
        "\n",
        "# Use GridSearchCV for hyperparameter tuning\n",
        "grid_search = GridSearchCV(svm_classifier, param_grid, cv=5)\n",
        "grid_search.fit(X_scaled, y)\n",
        "\n",
        "# Get the best parameters and best model\n",
        "best_params_svm = grid_search.best_params_\n",
        "best_svm_model = grid_search.best_estimator_"
      ],
      "metadata": {
        "id": "YcveS4QL4nPS"
      },
      "execution_count": null,
      "outputs": []
    },
    {
      "cell_type": "code",
      "source": [
        "best_params_svm"
      ],
      "metadata": {
        "colab": {
          "base_uri": "https://localhost:8080/"
        },
        "id": "siDSz1utCZuQ",
        "outputId": "5aa9da15-a987-4ef0-e11e-bfffbc3f8ade"
      },
      "execution_count": null,
      "outputs": [
        {
          "output_type": "execute_result",
          "data": {
            "text/plain": [
              "{'C': 1, 'gamma': 0.01}"
            ]
          },
          "metadata": {},
          "execution_count": 50
        }
      ]
    },
    {
      "cell_type": "code",
      "source": [
        "best_svm_model"
      ],
      "metadata": {
        "id": "MQwJxy5l0SDG",
        "colab": {
          "base_uri": "https://localhost:8080/",
          "height": 74
        },
        "outputId": "4b308068-1795-4005-a8e7-a27711f56122"
      },
      "execution_count": null,
      "outputs": [
        {
          "output_type": "execute_result",
          "data": {
            "text/plain": [
              "SVC(C=1, class_weight={-1: 5.0, 1: 1.0}, gamma=0.01, kernel='sigmoid')"
            ],
            "text/html": [
              "<style>#sk-container-id-7 {color: black;background-color: white;}#sk-container-id-7 pre{padding: 0;}#sk-container-id-7 div.sk-toggleable {background-color: white;}#sk-container-id-7 label.sk-toggleable__label {cursor: pointer;display: block;width: 100%;margin-bottom: 0;padding: 0.3em;box-sizing: border-box;text-align: center;}#sk-container-id-7 label.sk-toggleable__label-arrow:before {content: \"▸\";float: left;margin-right: 0.25em;color: #696969;}#sk-container-id-7 label.sk-toggleable__label-arrow:hover:before {color: black;}#sk-container-id-7 div.sk-estimator:hover label.sk-toggleable__label-arrow:before {color: black;}#sk-container-id-7 div.sk-toggleable__content {max-height: 0;max-width: 0;overflow: hidden;text-align: left;background-color: #f0f8ff;}#sk-container-id-7 div.sk-toggleable__content pre {margin: 0.2em;color: black;border-radius: 0.25em;background-color: #f0f8ff;}#sk-container-id-7 input.sk-toggleable__control:checked~div.sk-toggleable__content {max-height: 200px;max-width: 100%;overflow: auto;}#sk-container-id-7 input.sk-toggleable__control:checked~label.sk-toggleable__label-arrow:before {content: \"▾\";}#sk-container-id-7 div.sk-estimator input.sk-toggleable__control:checked~label.sk-toggleable__label {background-color: #d4ebff;}#sk-container-id-7 div.sk-label input.sk-toggleable__control:checked~label.sk-toggleable__label {background-color: #d4ebff;}#sk-container-id-7 input.sk-hidden--visually {border: 0;clip: rect(1px 1px 1px 1px);clip: rect(1px, 1px, 1px, 1px);height: 1px;margin: -1px;overflow: hidden;padding: 0;position: absolute;width: 1px;}#sk-container-id-7 div.sk-estimator {font-family: monospace;background-color: #f0f8ff;border: 1px dotted black;border-radius: 0.25em;box-sizing: border-box;margin-bottom: 0.5em;}#sk-container-id-7 div.sk-estimator:hover {background-color: #d4ebff;}#sk-container-id-7 div.sk-parallel-item::after {content: \"\";width: 100%;border-bottom: 1px solid gray;flex-grow: 1;}#sk-container-id-7 div.sk-label:hover label.sk-toggleable__label {background-color: #d4ebff;}#sk-container-id-7 div.sk-serial::before {content: \"\";position: absolute;border-left: 1px solid gray;box-sizing: border-box;top: 0;bottom: 0;left: 50%;z-index: 0;}#sk-container-id-7 div.sk-serial {display: flex;flex-direction: column;align-items: center;background-color: white;padding-right: 0.2em;padding-left: 0.2em;position: relative;}#sk-container-id-7 div.sk-item {position: relative;z-index: 1;}#sk-container-id-7 div.sk-parallel {display: flex;align-items: stretch;justify-content: center;background-color: white;position: relative;}#sk-container-id-7 div.sk-item::before, #sk-container-id-7 div.sk-parallel-item::before {content: \"\";position: absolute;border-left: 1px solid gray;box-sizing: border-box;top: 0;bottom: 0;left: 50%;z-index: -1;}#sk-container-id-7 div.sk-parallel-item {display: flex;flex-direction: column;z-index: 1;position: relative;background-color: white;}#sk-container-id-7 div.sk-parallel-item:first-child::after {align-self: flex-end;width: 50%;}#sk-container-id-7 div.sk-parallel-item:last-child::after {align-self: flex-start;width: 50%;}#sk-container-id-7 div.sk-parallel-item:only-child::after {width: 0;}#sk-container-id-7 div.sk-dashed-wrapped {border: 1px dashed gray;margin: 0 0.4em 0.5em 0.4em;box-sizing: border-box;padding-bottom: 0.4em;background-color: white;}#sk-container-id-7 div.sk-label label {font-family: monospace;font-weight: bold;display: inline-block;line-height: 1.2em;}#sk-container-id-7 div.sk-label-container {text-align: center;}#sk-container-id-7 div.sk-container {/* jupyter's `normalize.less` sets `[hidden] { display: none; }` but bootstrap.min.css set `[hidden] { display: none !important; }` so we also need the `!important` here to be able to override the default hidden behavior on the sphinx rendered scikit-learn.org. See: https://github.com/scikit-learn/scikit-learn/issues/21755 */display: inline-block !important;position: relative;}#sk-container-id-7 div.sk-text-repr-fallback {display: none;}</style><div id=\"sk-container-id-7\" class=\"sk-top-container\"><div class=\"sk-text-repr-fallback\"><pre>SVC(C=1, class_weight={-1: 5.0, 1: 1.0}, gamma=0.01, kernel=&#x27;sigmoid&#x27;)</pre><b>In a Jupyter environment, please rerun this cell to show the HTML representation or trust the notebook. <br />On GitHub, the HTML representation is unable to render, please try loading this page with nbviewer.org.</b></div><div class=\"sk-container\" hidden><div class=\"sk-item\"><div class=\"sk-estimator sk-toggleable\"><input class=\"sk-toggleable__control sk-hidden--visually\" id=\"sk-estimator-id-7\" type=\"checkbox\" checked><label for=\"sk-estimator-id-7\" class=\"sk-toggleable__label sk-toggleable__label-arrow\">SVC</label><div class=\"sk-toggleable__content\"><pre>SVC(C=1, class_weight={-1: 5.0, 1: 1.0}, gamma=0.01, kernel=&#x27;sigmoid&#x27;)</pre></div></div></div></div></div>"
            ]
          },
          "metadata": {},
          "execution_count": 51
        }
      ]
    },
    {
      "cell_type": "code",
      "source": [
        "# Perform feature scaling on the test data\n",
        "X_testing_scaled = scaler.transform(X_testing)\n",
        "\n",
        "# Use the best SVM model to make predictions\n",
        "y_pred_test = best_svm_model.predict(X_testing_scaled)\n",
        "\n",
        "# Evaluate the model's performance on the test set\n",
        "accuracy = accuracy_score(y_testing, y_pred_test)\n",
        "precision = precision_score(y_testing, y_pred_test)\n",
        "recall = recall_score(y_testing, y_pred_test)\n",
        "f1 = f1_score(y_testing, y_pred_test)\n",
        "conf_matrix = confusion_matrix(y_testing, y_pred_test)\n",
        "\n",
        "# Print the evaluation metrics\n",
        "print(\"Accuracy:\", accuracy)\n",
        "print(\"Precision:\", precision)\n",
        "print(\"Recall:\", recall)\n",
        "print(\"F1 Score:\", f1)\n",
        "print(\"Confusion Matrix:\\n\", conf_matrix)"
      ],
      "metadata": {
        "colab": {
          "base_uri": "https://localhost:8080/"
        },
        "id": "GszVZ3oyiKTD",
        "outputId": "e43dea48-f0a7-47b9-ac54-369d87ec4c85"
      },
      "execution_count": null,
      "outputs": [
        {
          "output_type": "stream",
          "name": "stdout",
          "text": [
            "Accuracy: 0.54\n",
            "Precision: 0.5370370370370371\n",
            "Recall: 0.3020833333333333\n",
            "F1 Score: 0.38666666666666666\n",
            "Confusion Matrix:\n",
            " [[79 25]\n",
            " [67 29]]\n"
          ]
        }
      ]
    },
    {
      "cell_type": "markdown",
      "source": [
        "Finally, to evaluate your three final classifiers (linear without feature selection, linear with feature\n",
        "selection, and non-linear) report the correspondence of each predictions on the test set to the true\n",
        "values using a confusion matrix (results will be three 2-by-2 matrices)."
      ],
      "metadata": {
        "id": "CmpgkDOmkpwf"
      }
    },
    {
      "cell_type": "markdown",
      "source": [
        "Logitic Regression with HP tunning:\n",
        "Confusion Matrix:\n",
        "\\begin{align}\n",
        "        \\begin{pmatrix}\n",
        "         70 & 34 \\\\\n",
        "         57 & 39\n",
        "        \\end{pmatrix}.\n",
        "\\end{align}\n",
        "\n",
        "\n",
        "Logistic Regression with Lasso:\n",
        "Confusion Matrix:\n",
        "\\begin{align}\n",
        "        \\begin{pmatrix}\n",
        "         72 & 32 \\\\\n",
        "         55 & 41\n",
        "        \\end{pmatrix}.\n",
        "\\end{align}\n",
        "\n",
        "Logistic Regrssion with Bolasso:\n",
        "Confusion Matrix:\n",
        "\\begin{align}\n",
        "        \\begin{pmatrix}\n",
        "         63 & 41 \\\\\n",
        "         49 & 47\n",
        "        \\end{pmatrix}.\n",
        "\\end{align}\n",
        "\n",
        "SVM:\n",
        "Confusion Matrix:\n",
        "\\begin{align}\n",
        "        \\begin{pmatrix}\n",
        "         79 & 25 \\\\\n",
        "         67 & 29\n",
        "        \\end{pmatrix}.\n",
        "\\end{align}"
      ],
      "metadata": {
        "id": "l3-TypSqrrWd"
      }
    },
    {
      "cell_type": "markdown",
      "source": [
        "Using, logistic regression with L2 regularization, Lasso feature selection with logistic regression, and BoLasso were used for classification, and Support Vector Machines with Sigmoid kernel were tested.\n",
        "\n",
        "These models were evaluated based on accuracy, precision, recall, and F1 score, and confussion matrix to assess their classification capabilities.\n",
        "\n",
        "The results indicated that all three models achieved relatively high accuracy, suggesting their effectiveness in distinguishing between edible and poisonous mushrooms.\n",
        "\n",
        "The logistic regression model demonstrated strong performance, which can be attributed to its linear nature and ability to capture simple decision boundaries.\n",
        "\n",
        "The Lasso feature selection with logistic regression showed that feature selection based on Lasso regularization could help improve model interpretability and reduce overfitting.\n",
        "\n",
        "The BoLasso method significantly reduced the number of features and refined the feature selection process by adding results from multiple bootstrap samples, this provided a simple but effective classifcation combined with Logistic regression.\n",
        "\n",
        "However, there are certain limitations that need to be addressed.\n",
        "\n",
        "All the models' performance might not generalize well to unseen data, and that can be seen when using the testing data set as all classifier models did not achieve any metric above 60%\n",
        "\n",
        "Additionally, the choice of class weights, regularization parameters, and feature selection thresholds could affect the models' performance and would ideally require further fine-tuning.\n",
        "\n",
        "So the results suggest that the chosen models can effectively classify mushrooms as edible or poisonous. However, to ensure reliable performance on real-world data, additional data, more careful hyperparameter tuning, and cross-validation are necessary.\n",
        "Also, the models' interpretability and transparency may be further enhanced by selecting the most informative features, potentially reducing the risk of false positives in the classification of poisonous mushrooms."
      ],
      "metadata": {
        "id": "OShUbo9tpNmv"
      }
    }
  ]
}